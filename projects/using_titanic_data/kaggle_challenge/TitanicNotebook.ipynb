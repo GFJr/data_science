{
 "cells": [
  {
   "cell_type": "code",
   "execution_count": 6,
   "metadata": {},
   "outputs": [],
   "source": [
    "from sklearn.linear_model import LogisticRegression\n",
    "from sklearn.model_selection import train_test_split\n",
    "import matplotlib.pyplot as plt\n",
    "from sklearn.metrics import accuracy_score\n",
    "from sklearn.ensemble import RandomForestClassifier\n",
    "from sklearn.preprocessing import OneHotEncoder, LabelEncoder, StandardScaler\n",
    "from sklearn.metrics import roc_curve, auc\n",
    "from sklearn.model_selection import StratifiedKFold\n",
    "\n",
    "import string\n",
    "import pandas as pd\n",
    "import numpy as np\n",
    "import seaborn as sns\n",
    "import warnings\n",
    "\n",
    "sns.set(style=\"darkgrid\")\n",
    "\n",
    "\n",
    "warnings.filterwarnings('ignore')"
   ]
  },
  {
   "cell_type": "markdown",
   "metadata": {},
   "source": [
    "   # Renaming the columns for training and test sets"
   ]
  },
  {
   "cell_type": "code",
   "execution_count": 7,
   "metadata": {},
   "outputs": [
    {
     "name": "stdout",
     "output_type": "stream",
     "text": [
      "age                             float64\n",
      "cabin_number                     object\n",
      "number_of_parent_or_children      int64\n",
      "number_of_sibling_or_spouse       int64\n",
      "passengerId                       int64\n",
      "passenger_fare                  float64\n",
      "passenger_name                   object\n",
      "port_of_embarkation              object\n",
      "sex                              object\n",
      "survived                        float64\n",
      "ticketClass                       int64\n",
      "ticketId                         object\n",
      "dtype: object\n"
     ]
    }
   ],
   "source": [
    "def concat_df(train_data, test_data):  \n",
    "    # Returns a concatenated df of training and test set\n",
    "    return pd.concat([train_data, test_data], sort=True).reset_index(drop=True)\n",
    "\n",
    "def divide_df(all_data):\n",
    "    # Returns divided dfs of training and test set\n",
    "    return all_data.loc[:890], all_data.loc[891:].drop(['survived'], axis=1)\n",
    "\n",
    "train = pd.read_csv(\"train.csv\")\n",
    "train_shape = train.shape\n",
    "\n",
    "test = pd.read_csv(\"test.csv\")\n",
    "test_shape = test.shape\n",
    "\n",
    "train.columns = ['passengerId','survived','ticketClass','passenger_name','sex','age',\n",
    "                 'number_of_sibling_or_spouse','number_of_parent_or_children', \n",
    "                 'ticketId','passenger_fare', 'cabin_number','port_of_embarkation']\n",
    "\n",
    "test.columns = ['passengerId','ticketClass','passenger_name','sex','age',\n",
    "                 'number_of_sibling_or_spouse','number_of_parent_or_children', \n",
    "                 'ticketId','passenger_fare', 'cabin_number','port_of_embarkation']\n",
    "\n",
    "#To see correlation we keep only the features which seem more useful...\n",
    "train = train[['passengerId','survived','ticketClass','passenger_name','sex','age',\n",
    "                 'number_of_sibling_or_spouse','number_of_parent_or_children',\n",
    "               'ticketId','passenger_fare', 'cabin_number','port_of_embarkation']]\n",
    "\n",
    "test = test[['passengerId','ticketClass','passenger_name','sex','age',\n",
    "                 'number_of_sibling_or_spouse','number_of_parent_or_children',\n",
    "             'ticketId','passenger_fare', 'cabin_number','port_of_embarkation']]\n",
    "\n",
    "df_all = concat_df(train, test)\n",
    "train.name = 'Training Set'\n",
    "test.name = 'Test Set'\n",
    "df_all.name = 'All Set' \n",
    "dfs = [train, test]\n",
    "\n",
    "print(df_all.dtypes)\n"
   ]
  },
  {
   "cell_type": "markdown",
   "metadata": {},
   "source": [
    "# Imputation of missing values\n"
   ]
  },
  {
   "cell_type": "markdown",
   "metadata": {},
   "source": [
    "### Filling age missing values by taking into account the sex and the ticket class."
   ]
  },
  {
   "cell_type": "code",
   "execution_count": 8,
   "metadata": {
    "scrolled": true
   },
   "outputs": [
    {
     "name": "stdout",
     "output_type": "stream",
     "text": [
      "Count of missing age : 0.20091673032849502\n"
     ]
    }
   ],
   "source": [
    "age_by_pclass_sex = df_all.groupby(['sex', 'ticketClass']).median()['age']\n",
    "\n",
    "print('Count of missing age :',df_all['age'].isnull().sum()/len(df_all['age']))\n",
    "# Filling the missing values in Age with the medians of Sex and Pclass groups\n",
    "df_all['age'] = df_all.groupby(['sex', 'ticketClass'])['age'].apply(lambda x: x.fillna(x.median()))\n",
    "df_all['age'] = pd.qcut(df_all['age'], 10)\n",
    "\n"
   ]
  },
  {
   "cell_type": "markdown",
   "metadata": {},
   "source": [
    "### Port of embarkation missing value\n",
    "When I googled Stone, Mrs. George Nelson (Martha Evelyn), I found that she embarked from S (Southampton) with her maid Amelie Icard, in this page Martha Evelyn Stone: Titanic Survivor.\n",
    "\n",
    "Mrs Stone boarded the Titanic in Southampton on 10 April 1912 and was travelling in first class with her maid Amelie Icard. She occupied cabin B-28.\n",
    "\n",
    "Missing values in Embarked are filled with S with this information."
   ]
  },
  {
   "cell_type": "code",
   "execution_count": 9,
   "metadata": {},
   "outputs": [
    {
     "name": "stdout",
     "output_type": "stream",
     "text": [
      "Count of missing port_of_embarkation : 2\n"
     ]
    }
   ],
   "source": [
    "print('Count of missing port_of_embarkation :',df_all['port_of_embarkation'].isnull().sum())\n",
    "# Filling the missing values in Embarked with S\n",
    "df_all['port_of_embarkation'].fillna('S', inplace=True)\n"
   ]
  },
  {
   "cell_type": "markdown",
   "metadata": {},
   "source": [
    " ### Passenger fare missing value\n",
    " The passenger fare is missing only once on the test set for a person with the family name 'Storey'. \n",
    "\n",
    "1) So first of all, we take some information regarding the person named 'storey' who has a 'NaN' passenger fare. \n",
    "Those informations are :\n",
    "- his ticket class ;\n",
    "- his port of embarkation ;\n",
    "- the number of parent/children;\n",
    "- the number of sibling/spouse.\n",
    "    \n",
    "2) Afterwards, we can filter the dataframes by selecting :\n",
    "- persons with the same ticket class as storey, this generate a dataframe called 'dfSameTicketClass'\n",
    "- We use the latter generated dataframe 'dfSameTicketClass' to select persons with the same number of sibling/spouse, this will generated another dataframe called 'dfsameSiblSp'\n",
    "- We use 'dfsameSiblSp' and select persons with the same number of parent/children as Storey\n",
    "- We do the same thing with sex and port of embarkation.\n",
    "    \n",
    "Finally, we have a dataframe containing data regarding people who were travelling in the same situation as Storey (ticket class, port of embarkation, numbers of spouse/sibling and parent/children). We take their passenger fares and take the median to replace the missing value for Storey.\n",
    "  \n",
    "     "
   ]
  },
  {
   "cell_type": "code",
   "execution_count": 10,
   "metadata": {},
   "outputs": [],
   "source": [
    "lineWithMissingFare = df_all[df_all['passenger_fare'].isna()] \n",
    "storeyTicketClass = lineWithMissingFare.ticketClass.values[0]\n",
    "storeyPort = lineWithMissingFare.port_of_embarkation.values[0]\n",
    "storeyParentCh = lineWithMissingFare.number_of_parent_or_children.values[0]\n",
    "storeySiblingSp = lineWithMissingFare.number_of_sibling_or_spouse.values[0]\n",
    "\n",
    "#We select the person with the same ticket class, number of sibling/spouse, number of parent/children, sex and port of embarkation. \n",
    "dfSameTicketClass = df_all[ df_all['ticketClass'] == storeyTicketClass ]\n",
    "dfsameSiblSp = dfSameTicketClass[dfSameTicketClass['number_of_sibling_or_spouse'] == storeySiblingSp] \n",
    "dfsameParch = dfsameSiblSp[dfsameSiblSp['number_of_parent_or_children'] == storeyParentCh]\n",
    "dfsameSex = dfsameParch[dfsameParch['sex'] == 'male']\n",
    "dfsamePort = dfsameSex[dfsameSex['port_of_embarkation'] == storeyPort]\n",
    "\n",
    "#We take the median of passenger fares for the passengers travelling on the same conditions as Storey.\n",
    "valueToImpute = dfsamePort.passenger_fare.median()\n",
    "\n",
    "# We replace the NaN value with the previous median \n",
    "df_all['passenger_fare'].fillna(valueToImpute, inplace=True)\n",
    "\n",
    "nancols = [col for col in df_all.columns if df_all[col].isnull().any()]\n",
    "\n",
    "#We cut passenger_fare into 13 buckets / groups / categories\n",
    "df_all['passenger_fare'] = pd.qcut(df_all['passenger_fare'], 13)"
   ]
  },
  {
   "cell_type": "markdown",
   "metadata": {},
   "source": [
    "# Feature engineering "
   ]
  },
  {
   "cell_type": "markdown",
   "metadata": {},
   "source": [
    "### Feature engineering with the 'cabin' feature\n",
    "The large portion of the Cabin feature is missing and the feature itself can't be ignored completely because some the cabins might have higher survival rates. \n",
    "It turns out to be the first letter of the Cabin values are the decks in which the cabins are located. \n",
    "Those decks were mainly separated for one passenger class, but some of them were used by multiple passenger classes.\n",
    "\n",
    "<img src=\"image.png\" />\n",
    "\n",
    "- On the Boat Deck there were 6 rooms labeled as T, U, W, X, Y, Z but only the T cabin is present in the dataset\n",
    "- A, B and C decks were only for 1st class passengers\n",
    "- D and E decks were for all classes\n",
    "- F and G decks were for both 2nd and 3rd class passengers\n",
    "- From going A to G, distance to the staircase increases which might be a factor of survival"
   ]
  },
  {
   "cell_type": "code",
   "execution_count": 11,
   "metadata": {},
   "outputs": [],
   "source": [
    "def display_missing(df): \n",
    "    for col in df.columns.tolist():          \n",
    "        print('{} column missing values: {}'.format(col, df[col].isnull().sum()))\n",
    "    print('\\n')\n",
    "    \n",
    "# Creating Deck column from the first letter of the Cabin column (M stands for Missing)\n",
    "df_all['deck'] = df_all['cabin_number'].apply(lambda s: s[0] if pd.notnull(s) else 'M')\n",
    "\n",
    "# T cabin passenger has the closest resemblance to A deck passengers so he is grouped with A deck\n",
    "# Thus, Passenger in the T deck is changed to A\n",
    "idx = df_all[df_all['deck'] == 'T'].index\n",
    "df_all.loc[idx, 'deck'] = 'A'\n",
    "\n",
    "df_all['deck'] = df_all['deck'].replace(['A', 'B', 'C'], 'ABC') #A, B and C decks were only for 1st class passengers\n",
    "df_all['deck'] = df_all['deck'].replace(['D', 'E'], 'DE') #D and E decks were for all classes\n",
    "df_all['deck'] = df_all['deck'].replace(['F', 'G'], 'FG') #F and G decks were for both 2nd and 3rd class passengers\n",
    "\n",
    "# Dropping the Cabin feature\n",
    "df_all.drop(['cabin_number'], inplace=True, axis=1)"
   ]
  },
  {
   "cell_type": "markdown",
   "metadata": {},
   "source": [
    "### Creation of the family size feature\n"
   ]
  },
  {
   "cell_type": "code",
   "execution_count": 7,
   "metadata": {},
   "outputs": [],
   "source": [
    "#the number of sibling or spouse + the number of parent or children + 1 (the person itself)\n",
    "df_all['family_size'] = df_all['number_of_sibling_or_spouse']+ df_all['number_of_parent_or_children'] + 1"
   ]
  },
  {
   "cell_type": "markdown",
   "metadata": {},
   "source": [
    "### Creation of the ticket frequency feature "
   ]
  },
  {
   "cell_type": "code",
   "execution_count": 8,
   "metadata": {},
   "outputs": [],
   "source": [
    "#Counting the number of occurences for each ticket id\n",
    "df_all['ticket_frequency'] = df_all.groupby('ticketId')['ticketId'].transform('count')\n"
   ]
  },
  {
   "cell_type": "markdown",
   "metadata": {},
   "source": [
    "### Creation of the 'is married' feature "
   ]
  },
  {
   "cell_type": "code",
   "execution_count": 9,
   "metadata": {
    "scrolled": true
   },
   "outputs": [],
   "source": [
    " #if 'Mrs' is found on the passenger name, we can conclude that the person is married \n",
    "df_all['title'] = df_all['passenger_name'].str.split(', ', expand=True)[1].str.split('.', expand=True)[0]\n",
    "df_all['is_married'] = 0\n",
    "df_all['is_married'].loc[df_all['title'] == 'Mrs'] = 1\n",
    "\n",
    "\n",
    "df_all['title'] = df_all['title'].replace(['Miss', 'Mrs','Ms', 'Mlle', 'Lady', 'Mme', 'the Countess', 'Dona'], 'Miss/Mrs/Ms')\n",
    "df_all['title'] = df_all['title'].replace(['Dr', 'Col', 'Major', 'Jonkheer', 'Capt', 'Sir', 'Don', 'Rev'], 'Dr/Military/Noble/Clergy') "
   ]
  },
  {
   "cell_type": "markdown",
   "metadata": {},
   "source": [
    "### Creation of the 'family_name' feature \n",
    "'extract_surname' function is used for extracting surnames of passengers from the Name feature. Family feature is created with the extracted surname. This is necessary for grouping passengers in the same family."
   ]
  },
  {
   "cell_type": "code",
   "execution_count": 10,
   "metadata": {},
   "outputs": [],
   "source": [
    "def extract_surname(data):    \n",
    "    families = []\n",
    "    for i in range(len(data)):        \n",
    "        name = data.iloc[i]\n",
    "        if '(' in name:\n",
    "            name_no_bracket = name.split('(')[0] \n",
    "        else:\n",
    "            name_no_bracket = name\n",
    "        family = name_no_bracket.split(',')[0]\n",
    "        title = name_no_bracket.split(',')[1].strip().split(' ')[0]\n",
    "        for c in string.punctuation:\n",
    "            family = family.replace(c, '').strip()\n",
    "        families.append(family)\n",
    "    return families\n",
    "\n",
    "df_all['family_name'] = extract_surname(df_all['passenger_name'])\n",
    "df_train = df_all.loc[:890]\n",
    "df_test= df_all.loc[891:]\n",
    "dfs = [df_train, df_test]"
   ]
  },
  {
   "cell_type": "markdown",
   "metadata": {},
   "source": [
    "### Survival rates\n",
    "Family_Survival_Rate is calculated from families in training set since there is no Survived feature in test set. A list of family names that are occuring in both training and test set (non_unique_families), is created. The survival rate is calculated for families with more than 1 members in that list, and stored in Family_Survival_Rate feature.\n",
    "\n",
    "An extra binary feature Family_Survival_Rate_NA is created for families that are unique to the test set. This feature is also necessary because there is no way to calculate those families' survival rate. This feature implies that family survival rate is not applicable to those passengers because there is no way to retrieve their survival rate.\n",
    "\n",
    "Ticket_Survival_Rate and Ticket_Survival_Rate_NA features are also created with the same method. \n",
    "\n",
    "Ticket_Survival_Rate and Family_Survival_Rate are averaged and become Survival_Rate, and Ticket_Survival_Rate_NA and Family_Survival_Rate_NA are also averaged and become Survival_Rate_NA."
   ]
  },
  {
   "cell_type": "code",
   "execution_count": 11,
   "metadata": {},
   "outputs": [],
   "source": [
    "\n",
    "# Creating a list of families and tickets that are occuring in both training and test set\n",
    "non_unique_families = [x for x in df_train['family_name'].unique() if x in df_test['family_name'].unique()]\n",
    "non_unique_tickets = [x for x in df_train['ticketId'].unique() if x in df_test['ticketId'].unique()]\n",
    " \n",
    "df_family_survival_rate = df_train.groupby('family_name')['survived', 'family_name','family_size'].median()\n",
    "df_ticket_survival_rate = df_train.groupby('ticketId')['survived', 'ticketId','ticket_frequency'].median()\n",
    "\n",
    "\n",
    "family_rates = {}\n",
    "ticket_rates = {}\n",
    "for i in range(len(df_family_survival_rate)):\n",
    "    # Checking a family exists in both training and test set, and has members more than 1\n",
    "    if df_family_survival_rate.index[i] in non_unique_families and df_family_survival_rate.iloc[i, 1] > 1:\n",
    "        family_rates[df_family_survival_rate.index[i]] = df_family_survival_rate.iloc[i, 0]\n",
    "    \n",
    "     \n",
    "\n",
    "for i in range(len(df_ticket_survival_rate)):\n",
    "    # Checking a ticket exists in both training and test set, and has members more than 1\n",
    "    if df_ticket_survival_rate.index[i] in non_unique_tickets and df_ticket_survival_rate.iloc[i, 1] > 1:\n",
    "        ticket_rates[df_ticket_survival_rate.index[i]] = df_ticket_survival_rate.iloc[i, 0]\n",
    "        \n",
    "        \n",
    "        "
   ]
  },
  {
   "cell_type": "code",
   "execution_count": 12,
   "metadata": {},
   "outputs": [],
   "source": [
    "\n",
    "mean_survival_rate = np.mean(df_train['survived'])\n",
    "train_family_survival_rate = []\n",
    "train_family_survival_rate_NA = []\n",
    "\n",
    "test_family_survival_rate = []\n",
    "test_family_survival_rate_NA = []\n",
    "\n",
    "\n",
    "# The survival rate is calculated for families with more than 1 members in that list, and stored in Family_Survival_Rate feature. \n",
    "for i in range(len(df_train)):\n",
    "    if df_train['family_name'][i] in family_rates:\n",
    "        train_family_survival_rate.append(family_rates[df_train['family_name'][i]])\n",
    "        train_family_survival_rate_NA.append(1)\n",
    "   # An extra binary feature Family_Survival_Rate_NA is created for families that are unique to the test set.\n",
    "    else:\n",
    "        train_family_survival_rate.append(mean_survival_rate)\n",
    "        train_family_survival_rate_NA.append(0)\n",
    "        \n",
    "# We do the same for the test set. \n",
    "for i in range(len(df_test)):\n",
    "    if df_test['family_name'].iloc[i] in family_rates:\n",
    "        test_family_survival_rate.append(family_rates[df_test['family_name'].iloc[i]])\n",
    "        test_family_survival_rate_NA.append(1)\n",
    "    else:\n",
    "        test_family_survival_rate.append(mean_survival_rate)\n",
    "        test_family_survival_rate_NA.append(0)\n",
    "        \n",
    "                \n",
    "df_train['family_survival_rate'] = train_family_survival_rate\n",
    "df_train['family_survival_rate_na'] = train_family_survival_rate_NA\n",
    "\n",
    "df_test['family_survival_rate'] = test_family_survival_rate\n",
    "df_test['family_survival_rate_na'] = test_family_survival_rate_NA"
   ]
  },
  {
   "cell_type": "markdown",
   "metadata": {},
   "source": [
    " #### We do the same process we did for family survival rate above, for the ticket id survival rate "
   ]
  },
  {
   "cell_type": "code",
   "execution_count": 13,
   "metadata": {},
   "outputs": [],
   "source": [
    "train_ticket_survival_rate = []\n",
    "train_ticket_survival_rate_NA = []\n",
    "test_ticket_survival_rate = []\n",
    "test_ticket_survival_rate_NA = []\n",
    "\n",
    "for i in range(len(df_train)):\n",
    "    if df_train['ticketId'][i] in ticket_rates:\n",
    "        train_ticket_survival_rate.append(ticket_rates[df_train['ticketId'][i]])\n",
    "        train_ticket_survival_rate_NA.append(1)\n",
    "    else:\n",
    "        train_ticket_survival_rate.append(mean_survival_rate)\n",
    "        train_ticket_survival_rate_NA.append(0)\n",
    "\n",
    "        \n",
    "for i in range(len(df_test)):\n",
    "    if df_test['ticketId'].iloc[i] in ticket_rates:\n",
    "        test_ticket_survival_rate.append(ticket_rates[df_test['ticketId'].iloc[i]])\n",
    "        test_ticket_survival_rate_NA.append(1)\n",
    "    else:\n",
    "        test_ticket_survival_rate.append(mean_survival_rate)\n",
    "        test_ticket_survival_rate_NA.append(0)\n",
    "        \n",
    "df_train['ticket_survival_rate'] = train_ticket_survival_rate\n",
    "df_train['ticket_survival_rate_na'] = train_ticket_survival_rate_NA\n",
    "df_test['ticket_survival_rate'] = test_ticket_survival_rate\n",
    "df_test['ticket_survival_rate_na'] = test_ticket_survival_rate_NA\n",
    "\n",
    "   \n",
    "    \n"
   ]
  },
  {
   "cell_type": "markdown",
   "metadata": {},
   "source": [
    "#### Averaging the ticket survival rate and the family survival rate to crate a new feature called survival rate\n",
    "(we do the same for 'survival_rate_na)\n"
   ]
  },
  {
   "cell_type": "code",
   "execution_count": 14,
   "metadata": {},
   "outputs": [],
   "source": [
    "for df in [df_train, df_test]:\n",
    "    df['survival_rate'] = (df['ticket_survival_rate'] + df['family_survival_rate']) / 2\n",
    "    df['survival_rate_na'] = (df['ticket_survival_rate_na'] + df['family_survival_rate_na']) / 2 "
   ]
  },
  {
   "cell_type": "markdown",
   "metadata": {},
   "source": [
    "# Feature encoding : Dummy variables\n",
    "Types before encoding : \n",
    "- age (category)\n",
    "- passenger_fare (category)\n",
    "- port_of_embarkation (object)\n",
    "- sex (object)\n",
    "- deck (object)\n",
    "- title (object)"
   ]
  },
  {
   "cell_type": "code",
   "execution_count": 15,
   "metadata": {},
   "outputs": [],
   "source": [
    "def createDummies(df,column_name):\n",
    "    dummies = pd.get_dummies(df[column_name],prefix=column_name)\n",
    "    df = pd.concat([df,dummies],axis=1)\n",
    "    return df\n",
    "\n",
    "df_train = createDummies(df_train,\"age\")\n",
    "df_test = createDummies(df_test,\"age\")\n",
    "\n",
    "df_train = createDummies(df_train,\"passenger_fare\")\n",
    "df_test = createDummies(df_test,\"passenger_fare\")\n",
    "\n",
    "df_train = createDummies(df_train,\"port_of_embarkation\")\n",
    "df_test = createDummies(df_test,\"port_of_embarkation\")\n",
    "\n",
    "df_train = createDummies(df_train,\"sex\")\n",
    "df_test = createDummies(df_test,\"sex\")\n",
    "\n",
    "\n",
    "df_train = createDummies(df_train,\"deck\")\n",
    "df_test = createDummies(df_test,\"deck\")\n",
    "\n",
    "df_train = createDummies(df_train,\"title\")\n",
    "df_test = createDummies(df_test,\"title\")"
   ]
  },
  {
   "cell_type": "markdown",
   "metadata": {},
   "source": [
    "#### Deletion of useless features"
   ]
  },
  {
   "cell_type": "code",
   "execution_count": 16,
   "metadata": {},
   "outputs": [],
   "source": [
    "df_train.drop( columns = ['passenger_name','ticketId','family_name','age','passenger_fare','title',\n",
    "                         \"age\",\"port_of_embarkation\",\"sex\",\"deck\",'number_of_parent_or_children',\n",
    "                          'number_of_sibling_or_spouse'],inplace = True)\n",
    "\n",
    "df_test.drop( columns = ['passenger_name','ticketId','family_name','age','passenger_fare','title',\n",
    "                         \"age\",\"port_of_embarkation\",\"sex\",\"deck\",'number_of_parent_or_children',\n",
    "                          'number_of_sibling_or_spouse'],inplace = True)"
   ]
  },
  {
   "cell_type": "markdown",
   "metadata": {},
   "source": [
    "# Optimization & Model Selection\n",
    "Algorithm tuning is a final step in the process of applied machine learning before presenting results.\n",
    "Machine learning models are parameterized so that their behavior can be tuned for a given problem.\n",
    "\n",
    "Models can have many hyperparameters and finding the best combination of hyperparameters can be treated as a search problem.\n",
    "Hyper-parameters are parameters that are not directly learnt within estimators. In scikit-learn they are passed as arguments to the constructor of the estimator classes.\n",
    "\n",
    "A search consists of:\n",
    "- an estimator (regressor or classifier such as sklearn.svm.SVC());\n",
    "- parameter space;\n",
    "- a method for searching or sampling candidates;\n",
    "- a cross-validation scheme;\n",
    "- a score function. \n",
    "\n",
    "\n",
    " Grid search is an approach to parameter tuning that will methodically build and evaluate a model for each combination of algorithm parameters specified in a grid (here 'hyperparam_grid'). The best combination of hyperparameters (i.e the combination with the most high cross validation score) is retained.\n",
    " \n",
    "Here we will compare the performance (accuracy) of 3 differents algorithms : Random Forest, Logistic Regression and SVC\n",
    "for a binary classification. The best model with its best hyperparameter cofiguration will be selected as the final model."
   ]
  },
  {
   "cell_type": "code",
   "execution_count": 17,
   "metadata": {},
   "outputs": [
    {
     "name": "stdout",
     "output_type": "stream",
     "text": [
      "Fitting 10 folds for each of 117 candidates, totalling 1170 fits\n"
     ]
    },
    {
     "name": "stderr",
     "output_type": "stream",
     "text": [
      "[Parallel(n_jobs=-1)]: Using backend LokyBackend with 4 concurrent workers.\n",
      "[Parallel(n_jobs=-1)]: Done  56 tasks      | elapsed:    2.6s\n",
      "[Parallel(n_jobs=-1)]: Done 560 tasks      | elapsed:  5.8min\n",
      "[Parallel(n_jobs=-1)]: Done 810 tasks      | elapsed: 14.6min\n",
      "[Parallel(n_jobs=-1)]: Done 1160 tasks      | elapsed: 24.5min\n"
     ]
    },
    {
     "name": "stdout",
     "output_type": "stream",
     "text": [
      "Best Score:  1.0\n",
      "Best Params:  {'classifier': LogisticRegression(C=0.1, class_weight={0: 0.5, 1: 0.5}, dual=False,\n",
      "                   fit_intercept=True, intercept_scaling=1, l1_ratio=None,\n",
      "                   max_iter=100, multi_class='auto', n_jobs=None, penalty='l1',\n",
      "                   random_state=None, solver='liblinear', tol=0.0001, verbose=0,\n",
      "                   warm_start=False), 'classifier__C': 0.1, 'classifier__class_weight': {1: 0.5, 0: 0.5}, 'classifier__penalty': 'l1', 'classifier__solver': 'liblinear'}\n"
     ]
    },
    {
     "name": "stderr",
     "output_type": "stream",
     "text": [
      "[Parallel(n_jobs=-1)]: Done 1170 out of 1170 | elapsed: 24.5min finished\n"
     ]
    }
   ],
   "source": [
    "from sklearn.model_selection import GridSearchCV\n",
    "from sklearn.pipeline import Pipeline\n",
    "from sklearn.ensemble import RandomForestClassifier\n",
    "from sklearn.svm import SVC\n",
    "\n",
    "\n",
    "#Lasso and Ridge regularization techniques\n",
    "penalty = ['l1', 'l2']\n",
    "\n",
    "#C is the inverse of the regularization term (1/lambda). \n",
    "#It tells the model how much large parameters are penalized\n",
    "#Smaller values result in larger penalization; must be a positive float.\n",
    "C = [0.1, 1, 10] \n",
    "\n",
    "#Allows you to place greater emphasis on a specific class\n",
    "class_weight = [{1:0.5, 0:0.5}, {1:0.4, 0:0.6}, {1:0.6, 0:0.4}] \n",
    "solver = ['liblinear', 'saga']\n",
    "\n",
    "hyperparam_grid = dict(penalty=penalty,\n",
    "                  C=C,\n",
    "                  class_weight=class_weight,\n",
    "                  solver=solver)\n",
    "\n",
    "\n",
    "pipeline = Pipeline([('classifier', RandomForestClassifier())])\n",
    "\n",
    "# Create space of candidate learning algorithms and their hyperparameters\n",
    "search_space = [{'classifier': [LogisticRegression()],\n",
    "                 'classifier__penalty': ['l1', 'l2'],\n",
    "                 'classifier__C': C,\n",
    "                 'classifier__class_weight': class_weight,\n",
    "                'classifier__solver': ['liblinear', 'saga']},\n",
    "                \n",
    "                {'classifier': [RandomForestClassifier()],\n",
    "                 'classifier__n_estimators': [10, 100, 1000],\n",
    "                 'classifier__class_weight': class_weight},\n",
    "               \n",
    "               {'classifier': [SVC()],\n",
    "                 'classifier__kernel': ['linear', 'poly', 'rbf', 'sigmoid'],\n",
    "                 'classifier__C': C,\n",
    "                 'classifier__class_weight': class_weight,\n",
    "                'classifier__gamma': ['scale', 'auto']},]\n",
    "\n",
    "grid = GridSearchCV(estimator=pipeline, #Estimator or model used\n",
    "                    param_grid=search_space, #Parameter space\n",
    "                    scoring='roc_auc', #Compute Area Under the Receiver Operating Characteristic Curve (ROC AUC) to evaluate the predictions on the test set\n",
    "                    verbose=1, #Controls the verbosity: the higher, the more messages\n",
    "                    cv = 10, #Number of folds for the Cross Validation process\n",
    "                    n_jobs=-1) \n",
    "\n",
    "\n",
    "best_model = grid.fit(df_train, df_train['survived'])\n",
    "\n",
    "print('Best Score: ', best_model.best_score_)\n",
    "print('Best Params: ', best_model.best_params_)"
   ]
  },
  {
   "cell_type": "markdown",
   "metadata": {},
   "source": [
    "# Feature correlation with target 'survived'"
   ]
  },
  {
   "cell_type": "code",
   "execution_count": null,
   "metadata": {},
   "outputs": [],
   "source": []
  },
  {
   "cell_type": "code",
   "execution_count": 18,
   "metadata": {},
   "outputs": [],
   "source": [
    "def getListOfColumnAndCorr(dataframe, correlations_df):\n",
    "    res = []\n",
    "    for i in range(len(dataframe.columns)):\n",
    "        res.append([dataframe.columns[i],correlations_df[i]])\n",
    "    return res \n",
    "\n",
    "# returns the n more correlated (with the target) features \n",
    "def getNMoreCorrelatedFeatures(n,columnsAndCorrelations):\n",
    "    sortedList = columnsAndCorrelations.sort(key = lambda x: abs(x[1]), reverse = True)\n",
    "    return [columnsAndCorrelations[i][0] for i in range(1,n) ]\n",
    "\n",
    "\n",
    "\n",
    "pearson_correlations = df_train.corrwith(method='pearson',other = train['survived'])\n",
    "columns_correlations = getListOfColumnAndCorr(df_train,pearson_correlations)"
   ]
  },
  {
   "cell_type": "markdown",
   "metadata": {},
   "source": [
    "# Feature Selection\n",
    "We will select different numbers of features for prediction and try to find out how much features we need to have the more accurate predictions for the final model."
   ]
  },
  {
   "cell_type": "code",
   "execution_count": 19,
   "metadata": {},
   "outputs": [
    {
     "name": "stdout",
     "output_type": "stream",
     "text": [
      "The curve below tells us that ' 45 ' is the number of features we should use to have the highest accuracy  0.8192883895131086 .\n"
     ]
    },
    {
     "data": {
      "image/png": "[encoded data removed]",
      "text/plain": [
       "<Figure size 432x288 with 1 Axes>"
      ]
     },
     "metadata": {},
     "output_type": "display_data"
    }
   ],
   "source": [
    "from sklearn.model_selection import cross_val_score\n",
    "\n",
    "#returns the number of more correlated features selected which gave the best accuracy\n",
    "def getNumberOfFeaturesWithBestScore(numberOfFeatures,accuracies):\n",
    "    return numberOfFeatures[accuracies.index(max(accuracies))]\n",
    "    \n",
    "accuracies = []\n",
    "number_of_features = []\n",
    "training_y = df_train['survived']\n",
    "\n",
    "#we try each number between 2 and the max number of features to select how much feature we need\n",
    "#and we select the n more correlated features with the target feature.\n",
    "for i in range(2,len(columns_correlations)):\n",
    "    features = getNMoreCorrelatedFeatures(i,columns_correlations)\n",
    "    training_xs = df_train[features]\n",
    "    lr = best_model.best_params_[\"classifier\"]\n",
    "    # train a logistic regression model on the i more correlated features with cross validation\n",
    "    scores = cross_val_score(lr, training_xs, training_y, cv=10)\n",
    "    \n",
    "    #we add the accuracy obtained and the number of feature we selected to obtain this accuracy\n",
    "    accuracies.append(np.mean(scores))\n",
    "    number_of_features.append(i)\n",
    "\n",
    "df_to_plot = pd.DataFrame(list(zip(number_of_features, accuracies)),columns=['number of features','accuracies'])\n",
    "sns.lineplot(x = 'number of features', y = 'accuracies', data = df_to_plot)\n",
    "\n",
    "\n",
    "holdout = df_test\n",
    "best_number_of_features = getNumberOfFeaturesWithBestScore(number_of_features,accuracies)\n",
    "features = getNMoreCorrelatedFeatures(best_number_of_features,columns_correlations)\n",
    "print(\"The curve below tells us that '\", best_number_of_features,\n",
    "      \"' is the number of features we should use to have the highest accuracy \",\n",
    "      max(accuracies),'.')\n"
   ]
  },
  {
   "cell_type": "markdown",
   "metadata": {},
   "source": [
    "# Training"
   ]
  },
  {
   "cell_type": "markdown",
   "metadata": {},
   "source": [
    "#### We use the best model with its best hyperparameter configuration as the final model to train and make predictions."
   ]
  },
  {
   "cell_type": "code",
   "execution_count": 20,
   "metadata": {},
   "outputs": [],
   "source": [
    "classifier = best_model.best_params_[\"classifier\"]\n",
    "all_X = df_train[features]\n",
    "all_y = df_train['survived']\n",
    "cross_validation_scores = []\n",
    "\n",
    "#This cross-validation object is a variation of KFold that returns stratified folds. \n",
    "#The folds are made by preserving the percentage of samples for each class.\n",
    "stratified_Kfold = StratifiedKFold(n_splits=10)\n",
    "\n",
    "#Cross validation process to train the model on all the data available\n",
    "for train_index, test_index in stratified_Kfold.split(all_X, all_y):\n",
    "    X_train, X_test = all_X.iloc[train_index], all_X.iloc[test_index]\n",
    "    y_train, y_test = all_y.iloc[train_index], all_y.iloc[test_index]\n",
    "    model = classifier.fit(X_train, y_train)\n",
    "    cross_validation_scores.append(model.score(X_test,y_test))"
   ]
  },
  {
   "cell_type": "markdown",
   "metadata": {},
   "source": [
    "# Evaluation"
   ]
  },
  {
   "cell_type": "markdown",
   "metadata": {},
   "source": [
    "#### Checking the AUC score "
   ]
  },
  {
   "cell_type": "code",
   "execution_count": 21,
   "metadata": {},
   "outputs": [
    {
     "data": {
      "image/png": "[encoded data removed]",
      "text/plain": [
       "<Figure size 432x288 with 1 Axes>"
      ]
     },
     "metadata": {},
     "output_type": "display_data"
    },
    {
     "name": "stdout",
     "output_type": "stream",
     "text": [
      "AUC SCORE 0.7873015873015873\n"
     ]
    }
   ],
   "source": [
    "predictions = classifier.predict(X_test)\n",
    "false_positive_rate, true_positive_rate, thresholds = roc_curve(y_test,predictions)\n",
    "\n",
    "plt.plot([0,1], [0,1], 'k--')\n",
    "plt.plot(false_positive_rate,true_positive_rate, label='Logistic Regression')\n",
    "plt.xlabel('False positive rate')\n",
    "plt.ylabel('True positive rate')\n",
    "plt.title(\"Logistic Regression ROC curve\")\n",
    "plt.show()\n",
    "\n",
    "print('AUC SCORE', auc(false_positive_rate,true_positive_rate))\n"
   ]
  },
  {
   "cell_type": "markdown",
   "metadata": {},
   "source": [
    "# Creation of the submission file\n",
    "#### used for the kaggle challenge"
   ]
  },
  {
   "cell_type": "code",
   "execution_count": 95,
   "metadata": {},
   "outputs": [],
   "source": [
    "\n",
    "holdout_predictions = classifier.predict(holdout[features]).astype(int)\n",
    "holdout_passenger_ids = holdout[\"passengerId\"]\n",
    "submission_df = {\"PassengerId\": holdout_passenger_ids,\n",
    "                 \"Survived\": holdout_predictions}\n",
    "\n",
    "submission = pd.DataFrame(submission_df)\n",
    "\n",
    "submission.to_csv('titanic_submission.csv', index=False)"
   ]
  },
  {
   "cell_type": "code",
   "execution_count": null,
   "metadata": {},
   "outputs": [],
   "source": []
  }
 ],
 "metadata": {
  "kernelspec": {
   "display_name": "Python 3",
   "language": "python",
   "name": "python3"
  },
  "language_info": {
   "codemirror_mode": {
    "name": "ipython",
    "version": 3
   },
   "file_extension": ".py",
   "mimetype": "text/x-python",
   "name": "python",
   "nbconvert_exporter": "python",
   "pygments_lexer": "ipython3",
   "version": "3.7.4"
  }
 },
 "nbformat": 4,
 "nbformat_minor": 4
}
