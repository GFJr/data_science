{
 "cells": [
  {
   "cell_type": "markdown",
   "metadata": {},
   "source": [
    "# Objective of this Notebook\n",
    "This notebook uses the dataset provided by kaggle for a competition called : Don't Overfit! II. \n",
    "\n",
    "Kagle provides a test set and a very small training set, which will encourage our model to overfit.\n",
    "\n",
    "So we have to avoid overfitting and propose a model which can generalize to new examples coming from the test set."
   ]
  },
  {
   "cell_type": "markdown",
   "metadata": {},
   "source": [
    "## 1. Data Exploration\n",
    "\n",
    "### Reading data"
   ]
  },
  {
   "cell_type": "code",
   "execution_count": 1,
   "metadata": {},
   "outputs": [],
   "source": [
    "import pandas as pd\n",
    "import os"
   ]
  },
  {
   "cell_type": "code",
   "execution_count": 2,
   "metadata": {},
   "outputs": [
    {
     "data": {
      "text/html": [
       "<div>\n",
       "<style scoped>\n",
       "    .dataframe tbody tr th:only-of-type {\n",
       "        vertical-align: middle;\n",
       "    }\n",
       "\n",
       "    .dataframe tbody tr th {\n",
       "        vertical-align: top;\n",
       "    }\n",
       "\n",
       "    .dataframe thead th {\n",
       "        text-align: right;\n",
       "    }\n",
       "</style>\n",
       "<table border=\"1\" class=\"dataframe\">\n",
       "  <thead>\n",
       "    <tr style=\"text-align: right;\">\n",
       "      <th></th>\n",
       "      <th>id</th>\n",
       "      <th>target</th>\n",
       "      <th>0</th>\n",
       "      <th>1</th>\n",
       "      <th>2</th>\n",
       "      <th>3</th>\n",
       "      <th>4</th>\n",
       "      <th>5</th>\n",
       "      <th>6</th>\n",
       "      <th>7</th>\n",
       "      <th>...</th>\n",
       "      <th>290</th>\n",
       "      <th>291</th>\n",
       "      <th>292</th>\n",
       "      <th>293</th>\n",
       "      <th>294</th>\n",
       "      <th>295</th>\n",
       "      <th>296</th>\n",
       "      <th>297</th>\n",
       "      <th>298</th>\n",
       "      <th>299</th>\n",
       "    </tr>\n",
       "  </thead>\n",
       "  <tbody>\n",
       "    <tr>\n",
       "      <td>0</td>\n",
       "      <td>0</td>\n",
       "      <td>1.0</td>\n",
       "      <td>-1.067</td>\n",
       "      <td>-1.114</td>\n",
       "      <td>-0.616</td>\n",
       "      <td>0.376</td>\n",
       "      <td>1.090</td>\n",
       "      <td>0.467</td>\n",
       "      <td>-0.422</td>\n",
       "      <td>0.460</td>\n",
       "      <td>...</td>\n",
       "      <td>0.220</td>\n",
       "      <td>-0.339</td>\n",
       "      <td>0.254</td>\n",
       "      <td>-0.179</td>\n",
       "      <td>0.352</td>\n",
       "      <td>0.125</td>\n",
       "      <td>0.347</td>\n",
       "      <td>0.436</td>\n",
       "      <td>0.958</td>\n",
       "      <td>-0.824</td>\n",
       "    </tr>\n",
       "    <tr>\n",
       "      <td>1</td>\n",
       "      <td>1</td>\n",
       "      <td>0.0</td>\n",
       "      <td>-0.831</td>\n",
       "      <td>0.271</td>\n",
       "      <td>1.716</td>\n",
       "      <td>1.096</td>\n",
       "      <td>1.731</td>\n",
       "      <td>-0.197</td>\n",
       "      <td>1.904</td>\n",
       "      <td>-0.265</td>\n",
       "      <td>...</td>\n",
       "      <td>-0.765</td>\n",
       "      <td>-0.735</td>\n",
       "      <td>-1.158</td>\n",
       "      <td>2.554</td>\n",
       "      <td>0.856</td>\n",
       "      <td>-1.506</td>\n",
       "      <td>0.462</td>\n",
       "      <td>-0.029</td>\n",
       "      <td>-1.932</td>\n",
       "      <td>-0.343</td>\n",
       "    </tr>\n",
       "    <tr>\n",
       "      <td>2</td>\n",
       "      <td>2</td>\n",
       "      <td>0.0</td>\n",
       "      <td>0.099</td>\n",
       "      <td>1.390</td>\n",
       "      <td>-0.732</td>\n",
       "      <td>-1.065</td>\n",
       "      <td>0.005</td>\n",
       "      <td>-0.081</td>\n",
       "      <td>-1.450</td>\n",
       "      <td>0.317</td>\n",
       "      <td>...</td>\n",
       "      <td>-1.311</td>\n",
       "      <td>0.799</td>\n",
       "      <td>-1.001</td>\n",
       "      <td>1.544</td>\n",
       "      <td>0.575</td>\n",
       "      <td>-0.309</td>\n",
       "      <td>-0.339</td>\n",
       "      <td>-0.148</td>\n",
       "      <td>-0.646</td>\n",
       "      <td>0.725</td>\n",
       "    </tr>\n",
       "    <tr>\n",
       "      <td>3</td>\n",
       "      <td>3</td>\n",
       "      <td>1.0</td>\n",
       "      <td>-0.989</td>\n",
       "      <td>-0.916</td>\n",
       "      <td>-1.343</td>\n",
       "      <td>0.145</td>\n",
       "      <td>0.543</td>\n",
       "      <td>0.636</td>\n",
       "      <td>1.127</td>\n",
       "      <td>0.189</td>\n",
       "      <td>...</td>\n",
       "      <td>-1.370</td>\n",
       "      <td>1.093</td>\n",
       "      <td>0.596</td>\n",
       "      <td>-0.589</td>\n",
       "      <td>-0.649</td>\n",
       "      <td>-0.163</td>\n",
       "      <td>-0.958</td>\n",
       "      <td>-1.081</td>\n",
       "      <td>0.805</td>\n",
       "      <td>3.401</td>\n",
       "    </tr>\n",
       "    <tr>\n",
       "      <td>4</td>\n",
       "      <td>4</td>\n",
       "      <td>0.0</td>\n",
       "      <td>0.811</td>\n",
       "      <td>-1.509</td>\n",
       "      <td>0.522</td>\n",
       "      <td>-0.360</td>\n",
       "      <td>-0.220</td>\n",
       "      <td>-0.959</td>\n",
       "      <td>0.334</td>\n",
       "      <td>-0.566</td>\n",
       "      <td>...</td>\n",
       "      <td>-0.178</td>\n",
       "      <td>0.718</td>\n",
       "      <td>-1.017</td>\n",
       "      <td>1.249</td>\n",
       "      <td>-0.596</td>\n",
       "      <td>-0.445</td>\n",
       "      <td>1.751</td>\n",
       "      <td>1.442</td>\n",
       "      <td>-0.393</td>\n",
       "      <td>-0.643</td>\n",
       "    </tr>\n",
       "  </tbody>\n",
       "</table>\n",
       "<p>5 rows × 302 columns</p>\n",
       "</div>"
      ],
      "text/plain": [
       "   id  target      0      1      2      3      4      5      6      7  ...  \\\n",
       "0   0     1.0 -1.067 -1.114 -0.616  0.376  1.090  0.467 -0.422  0.460  ...   \n",
       "1   1     0.0 -0.831  0.271  1.716  1.096  1.731 -0.197  1.904 -0.265  ...   \n",
       "2   2     0.0  0.099  1.390 -0.732 -1.065  0.005 -0.081 -1.450  0.317  ...   \n",
       "3   3     1.0 -0.989 -0.916 -1.343  0.145  0.543  0.636  1.127  0.189  ...   \n",
       "4   4     0.0  0.811 -1.509  0.522 -0.360 -0.220 -0.959  0.334 -0.566  ...   \n",
       "\n",
       "     290    291    292    293    294    295    296    297    298    299  \n",
       "0  0.220 -0.339  0.254 -0.179  0.352  0.125  0.347  0.436  0.958 -0.824  \n",
       "1 -0.765 -0.735 -1.158  2.554  0.856 -1.506  0.462 -0.029 -1.932 -0.343  \n",
       "2 -1.311  0.799 -1.001  1.544  0.575 -0.309 -0.339 -0.148 -0.646  0.725  \n",
       "3 -1.370  1.093  0.596 -0.589 -0.649 -0.163 -0.958 -1.081  0.805  3.401  \n",
       "4 -0.178  0.718 -1.017  1.249 -0.596 -0.445  1.751  1.442 -0.393 -0.643  \n",
       "\n",
       "[5 rows x 302 columns]"
      ]
     },
     "execution_count": 2,
     "metadata": {},
     "output_type": "execute_result"
    }
   ],
   "source": [
    "training_set = pd.read_csv('train.csv')\n",
    "test_set = pd.read_csv('test.csv')\n",
    "training_set.head()"
   ]
  },
  {
   "cell_type": "markdown",
   "metadata": {},
   "source": [
    "### Features types"
   ]
  },
  {
   "cell_type": "code",
   "execution_count": 3,
   "metadata": {},
   "outputs": [
    {
     "data": {
      "text/plain": [
       "{dtype('int64'), dtype('float64')}"
      ]
     },
     "execution_count": 3,
     "metadata": {},
     "output_type": "execute_result"
    }
   ],
   "source": [
    "set(training_set.dtypes.values)"
   ]
  },
  {
   "cell_type": "markdown",
   "metadata": {},
   "source": [
    "We only have numerical features, we can perform regression (linear or logistic)\n",
    "\n",
    "\n",
    "### Missing values"
   ]
  },
  {
   "cell_type": "code",
   "execution_count": 4,
   "metadata": {},
   "outputs": [
    {
     "data": {
      "text/plain": [
       "False"
      ]
     },
     "execution_count": 4,
     "metadata": {},
     "output_type": "execute_result"
    }
   ],
   "source": [
    "training_set.isnull().any().any()"
   ]
  },
  {
   "cell_type": "markdown",
   "metadata": {},
   "source": [
    "The False boolean tells us that we have no missing values."
   ]
  },
  {
   "cell_type": "markdown",
   "metadata": {},
   "source": [
    "### Target classes repartition"
   ]
  },
  {
   "cell_type": "code",
   "execution_count": 5,
   "metadata": {},
   "outputs": [
    {
     "name": "stdout",
     "output_type": "stream",
     "text": [
      "0.0    183\n",
      "1.0     67\n",
      "Name: target, dtype: int64 \n",
      "\n",
      "Percentage of class 0: 73.2 %\n",
      "Percentage of class 1: 26.8 %\n"
     ]
    }
   ],
   "source": [
    "print(training_set['target'].value_counts(),'\\n')\n",
    "\n",
    "class0_total = training_set['target'].value_counts()[0]\n",
    "class1_total = training_set['target'].value_counts()[1]\n",
    "total =  class1_total + class0_total\n",
    "print('Percentage of class 0:',(class0_total / total)*100, \"%\")\n",
    "print('Percentage of class 1:',(class1_total / total)*100, \"%\")"
   ]
  },
  {
   "cell_type": "markdown",
   "metadata": {},
   "source": [
    "Given that the class 0 is much more present than the class 1, we are in an imbalanced case. \n",
    "Thus, later, when we'll evaluate our model, we should use an appropriate metric of evaluation for skewed classes.\n",
    "We could use **precision**, **recall** and finally compute the **F1 score**"
   ]
  },
  {
   "cell_type": "markdown",
   "metadata": {},
   "source": [
    "## 2. Data preprocessing\n",
    "### Feature scaling\n",
    "<a id='scaling-data'></a>\n",
    "\n",
    "Our linear model uses Gradient Descent to minimize a cost function.\n",
    "We can speed up gradient descent by having each of our input values in roughly the same range.\n",
    "Two techniques to help with this are feature scaling and mean normalization. \n",
    "\n",
    "* Feature scaling involves dividing the input values by the range (i.e. the maximum value minus the minimum value) of the input variable, resulting in a new range of just 1. \n",
    "\n",
    "* Mean normalization involves subtracting the average value for an input variable from the values for that input variable resulting in a new average value for the input variable of just zero. \n",
    "\n",
    "-> To implement both of these techniques, we can adjust our input values as shown in this formula:\n",
    "$Z = \\frac{x - \\mu}{\\sigma}$ where x is the feature value, $\\mu$ is the average of all the values for the feature concerned and $\\sigma$ is the standard deviation (or the range value : max-min)\n",
    "\n",
    "\n",
    "Here the features are transformed so that they have the properties of a standard normal distribution  with mean = 0 and standard deviation = 1.\n",
    "This will speed up calcultations of algorithms using Gradient Descent and measures of distance (like Euclidean distance)."
   ]
  },
  {
   "cell_type": "code",
   "execution_count": 6,
   "metadata": {},
   "outputs": [
    {
     "data": {
      "text/html": [
       "<div>\n",
       "<style scoped>\n",
       "    .dataframe tbody tr th:only-of-type {\n",
       "        vertical-align: middle;\n",
       "    }\n",
       "\n",
       "    .dataframe tbody tr th {\n",
       "        vertical-align: top;\n",
       "    }\n",
       "\n",
       "    .dataframe thead th {\n",
       "        text-align: right;\n",
       "    }\n",
       "</style>\n",
       "<table border=\"1\" class=\"dataframe\">\n",
       "  <thead>\n",
       "    <tr style=\"text-align: right;\">\n",
       "      <th></th>\n",
       "      <th>id</th>\n",
       "      <th>target</th>\n",
       "      <th>0</th>\n",
       "      <th>1</th>\n",
       "      <th>2</th>\n",
       "      <th>3</th>\n",
       "      <th>4</th>\n",
       "      <th>5</th>\n",
       "      <th>6</th>\n",
       "      <th>7</th>\n",
       "      <th>...</th>\n",
       "      <th>290</th>\n",
       "      <th>291</th>\n",
       "      <th>292</th>\n",
       "      <th>293</th>\n",
       "      <th>294</th>\n",
       "      <th>295</th>\n",
       "      <th>296</th>\n",
       "      <th>297</th>\n",
       "      <th>298</th>\n",
       "      <th>299</th>\n",
       "    </tr>\n",
       "  </thead>\n",
       "  <tbody>\n",
       "    <tr>\n",
       "      <td>min</td>\n",
       "      <td>0</td>\n",
       "      <td>0.0</td>\n",
       "      <td>-3.181</td>\n",
       "      <td>-3.041</td>\n",
       "      <td>-2.967</td>\n",
       "      <td>-2.898</td>\n",
       "      <td>-2.837</td>\n",
       "      <td>-3.831</td>\n",
       "      <td>-2.873</td>\n",
       "      <td>-2.489</td>\n",
       "      <td>...</td>\n",
       "      <td>-2.824</td>\n",
       "      <td>-2.971</td>\n",
       "      <td>-3.592</td>\n",
       "      <td>-3.071</td>\n",
       "      <td>-2.621</td>\n",
       "      <td>-3.013</td>\n",
       "      <td>-3.275</td>\n",
       "      <td>-2.665</td>\n",
       "      <td>-3.006</td>\n",
       "      <td>-2.471</td>\n",
       "    </tr>\n",
       "    <tr>\n",
       "      <td>max</td>\n",
       "      <td>249</td>\n",
       "      <td>1.0</td>\n",
       "      <td>2.347</td>\n",
       "      <td>3.138</td>\n",
       "      <td>2.609</td>\n",
       "      <td>2.590</td>\n",
       "      <td>2.413</td>\n",
       "      <td>2.687</td>\n",
       "      <td>2.793</td>\n",
       "      <td>3.766</td>\n",
       "      <td>...</td>\n",
       "      <td>2.773</td>\n",
       "      <td>2.701</td>\n",
       "      <td>3.193</td>\n",
       "      <td>4.280</td>\n",
       "      <td>2.716</td>\n",
       "      <td>3.074</td>\n",
       "      <td>2.626</td>\n",
       "      <td>2.388</td>\n",
       "      <td>2.730</td>\n",
       "      <td>3.401</td>\n",
       "    </tr>\n",
       "  </tbody>\n",
       "</table>\n",
       "<p>2 rows × 302 columns</p>\n",
       "</div>"
      ],
      "text/plain": [
       "      id  target      0      1      2      3      4      5      6      7  ...  \\\n",
       "min    0     0.0 -3.181 -3.041 -2.967 -2.898 -2.837 -3.831 -2.873 -2.489  ...   \n",
       "max  249     1.0  2.347  3.138  2.609  2.590  2.413  2.687  2.793  3.766  ...   \n",
       "\n",
       "       290    291    292    293    294    295    296    297    298    299  \n",
       "min -2.824 -2.971 -3.592 -3.071 -2.621 -3.013 -3.275 -2.665 -3.006 -2.471  \n",
       "max  2.773  2.701  3.193  4.280  2.716  3.074  2.626  2.388  2.730  3.401  \n",
       "\n",
       "[2 rows x 302 columns]"
      ]
     },
     "execution_count": 6,
     "metadata": {},
     "output_type": "execute_result"
    }
   ],
   "source": [
    "training_set.agg([min, max])"
   ]
  },
  {
   "cell_type": "code",
   "execution_count": 7,
   "metadata": {},
   "outputs": [],
   "source": [
    "from sklearn.preprocessing import StandardScaler\n",
    "\n",
    "scaler = StandardScaler()\n",
    "\n",
    "#Features column names without the target 'target' \n",
    "features_columns_names = training_set.columns[:-1]\n",
    "scaled_data = scaler.fit_transform(training_set[features_columns_names])\n",
    "\n",
    "#Replacing features old values with their scaled values\n",
    "training_set.loc[:, features_columns_names] = scaled_data"
   ]
  },
  {
   "cell_type": "markdown",
   "metadata": {},
   "source": [
    "## 3. Logistic Regression\n",
    "### Model definition"
   ]
  },
  {
   "cell_type": "code",
   "execution_count": 8,
   "metadata": {},
   "outputs": [],
   "source": [
    "from sklearn.model_selection import train_test_split \n",
    "\n",
    "training_targets = training_set['target']\n",
    "training_predictors = training_set.drop(columns='target')\n",
    "\n",
    "X_train, X_val, y_train, y_val = train_test_split(training_predictors, training_targets, test_size=0.30, random_state=42, shuffle=True, \n",
    "                                                    stratify=training_targets)\n",
    "\n",
    "y_train = y_train.astype(int)\n",
    "y_val =y_val.astype(int)\n"
   ]
  },
  {
   "cell_type": "code",
   "execution_count": 9,
   "metadata": {},
   "outputs": [],
   "source": [
    "from sklearn.linear_model import LogisticRegression\n",
    "\n",
    "logistic_regression_model =LogisticRegression()"
   ]
  },
  {
   "cell_type": "markdown",
   "metadata": {},
   "source": [
    "### Training, validation and evaluation"
   ]
  },
  {
   "cell_type": "code",
   "execution_count": 10,
   "metadata": {},
   "outputs": [],
   "source": [
    "from sklearn.metrics import log_loss\n",
    "import numpy as np\n",
    "\n",
    "#To split the training set in 50 parts of same size\n",
    "instance_sizes = np.linspace(0.05, 1.0, 50)\n",
    "train_sizes = [int(i*X_train.shape[0]) for i in instance_sizes]\n",
    "\n",
    "logloss_training_values = []\n",
    "logloss_validationumbers_of_features = []\n",
    "\n",
    "for i in range(len(instance_sizes)):\n",
    "    logistic_model = logistic_regression_model\n",
    "        \n",
    "    #Training part\n",
    "    training_predictors = X_train.iloc[:train_sizes[i]]\n",
    "    training_outputs = y_train.iloc[:train_sizes[i]]\n",
    "    training_outputs = training_outputs.values.astype(int)\n",
    "    \n",
    "    logistic_model = logistic_model.fit(training_predictors , training_outputs)\n",
    "    training_predictions = logistic_model.predict(training_predictors)\n",
    "    logloss_training_values.append(log_loss(training_outputs,training_predictions))\n",
    "        \n",
    "        \n",
    "    #Test on validation set part\n",
    "    val_predictions = logistic_model.predict(X_val)\n",
    "    val_outputs = y_val.values\n",
    "    logloss_validationumbers_of_features.append(log_loss(val_outputs, val_predictions))\n",
    "    \n",
    "old_model_predictions = val_predictions"
   ]
  },
  {
   "cell_type": "markdown",
   "metadata": {},
   "source": [
    "### Learning curves "
   ]
  },
  {
   "cell_type": "code",
   "execution_count": 11,
   "metadata": {},
   "outputs": [
    {
     "data": {
      "image/png": "[encoded data removed]",
      "text/plain": [
       "<Figure size 432x288 with 1 Axes>"
      ]
     },
     "metadata": {
      "needs_background": "light"
     },
     "output_type": "display_data"
    }
   ],
   "source": [
    "import matplotlib.pyplot as plt\n",
    "from sklearn.metrics import f1_score\n",
    "\n",
    "plt.plot(train_sizes,logloss_training_values, color=\"green\", label=\"Training set loss\")\n",
    "plt.plot(train_sizes,logloss_validationumbers_of_features, color=\"red\",  label=\"Validation set loss\")\n",
    "\n",
    "\n",
    "# Create plot\n",
    "plt.title(\"Logistic regression learning Curve\")\n",
    "plt.xlabel(\"Training set size\"), plt.ylabel(\"Error value\"), plt.legend(loc=\"best\")\n",
    "plt.tight_layout()\n",
    "plt.show()"
   ]
  },
  {
   "cell_type": "code",
   "execution_count": 12,
   "metadata": {},
   "outputs": [
    {
     "name": "stdout",
     "output_type": "stream",
     "text": [
      "Training F1-score: 1.0\n",
      "Validation F1-score: 0.41379310344827586\n"
     ]
    }
   ],
   "source": [
    "print(\"Training F1-score:\", f1_score(training_outputs, training_predictions))\n",
    "print(\"Validation F1-score:\", f1_score(val_outputs, val_predictions))"
   ]
  },
  {
   "cell_type": "markdown",
   "metadata": {},
   "source": [
    "## 4. Results Interpretation\n",
    "\n",
    "### Learning curve interpretation\n",
    "Plotting learning curves could be a good way to check if our model is doing good.\n",
    "The loss value is very close to 0 for the training set compared to the loss for the validation set.\n",
    "\n",
    "### F1 scores interpretation\n",
    "Given that the target classes are skewed (as seen on the 'Target classes repartition' part) , we'll use the F1 score , an appropriate metric when target classes proportions are imbalanced.\n",
    "\n",
    "The relative contribution of precision and recall to the F1 score are equal. \n",
    "\n",
    "The formula for the F1 score is:\n",
    "$$F1 = 2 * \\frac{(precision * recall)}{(precision + recall)}$$\n",
    "\n",
    "The F1 score can be interpreted as a weighted average of the precision and recall, where an F1 score reaches its **best value at 1** and **worst score at 0**.\n",
    "\n",
    "\n",
    "**The F1-score reaches its best value of 1.0 for the training set but reaches 0.41 for the validation set, which is much lower.**\n",
    "\n",
    "### Conclusion of the interpretations\n",
    "We can see that our model has a high variance of performance between the training set and the validation set.\n",
    "**Our model is overfitting the training set and can't generalize to new examples coming from the validation set.**\n",
    "\n",
    "### What can we do to reduce overfitting ?\n",
    "To prevent or reduce overfitting there are several options for us:\n",
    "* Use regularization techniques\n",
    "* Feature selection : choose a smaller subset of features"
   ]
  },
  {
   "cell_type": "markdown",
   "metadata": {},
   "source": [
    "## Feature Selection\n",
    "### Pearson correlation between features\n",
    "Pearson’s correlation coefficient is a statistical test which measures the statistical relationship, or association, between two continuous variables.  It is known as the best method of measuring the association between variables of interest because it is based on the method of covariance.  It gives information about the magnitude of the association, or correlation, as well as the direction of the relationship.\n",
    "\n",
    "A Pearson correlation is a number between -1 and 1.\n",
    "Features highly correlated (close to 1 or -1) with our target 'quality' will be helpful for the predictions of the latter.\n",
    "If a feature has a correlation value close to 0, we can assume that they will be less useful regarding predictions of our target.\n",
    "\n",
    "Let's analyze features correlation with our target to spot which features seems useful for prediction."
   ]
  },
  {
   "cell_type": "code",
   "execution_count": 13,
   "metadata": {},
   "outputs": [
    {
     "data": {
      "text/plain": [
       "127    0.337540\n",
       "176    0.217100\n",
       "18     0.206452\n",
       "59     0.203166\n",
       "135    0.179960\n",
       "         ...   \n",
       "108    0.001018\n",
       "111    0.000971\n",
       "246    0.000778\n",
       "263    0.000624\n",
       "269    0.000211\n",
       "Name: target, Length: 301, dtype: float64"
      ]
     },
     "execution_count": 13,
     "metadata": {},
     "output_type": "execute_result"
    }
   ],
   "source": [
    "import seaborn as sns\n",
    "\n",
    "correlations = training_set.corr()['target'].drop('target').abs().sort_values(ascending=False)\n",
    "correlations"
   ]
  },
  {
   "cell_type": "markdown",
   "metadata": {},
   "source": [
    "There are a lot of features (300), we need to select a feature subset by looking at correlations with our target."
   ]
  },
  {
   "cell_type": "markdown",
   "metadata": {},
   "source": [
    "### Selection process\n",
    "\n",
    "We are trying to find the best number of features to select. Thus we will try differents values of 'n', the number of features selected (n most correlated features with the target).\n",
    "\n",
    "Steps (of the code below):\n",
    "* 1. We choose a number of feature n (between 1 and the total number of features)\n",
    "* 2. We filter the training set and keep the n most correlated features\n",
    "* 3. We fit our model to the training set and compute the loss regarding the training predictions\n",
    "* 4. We use our trained model to predict outputs for the validation set and we compute its loss.\n",
    "* 5. We store the losses, the difference between losses and the n values \n"
   ]
  },
  {
   "cell_type": "code",
   "execution_count": 14,
   "metadata": {},
   "outputs": [],
   "source": [
    "# returns the n more correlated (with the target) features \n",
    "def getNMostCorrelatedFeatures(n,correlations):\n",
    "    colnames_and_correlation = [ [correlations.keys()[i],correlations.values[i]] for i in range (len(correlations.values))]\n",
    "    return [colnames_and_correlation[i][0] for i in range(n) ]\n",
    "\n",
    "\n",
    "training_loglosses = []\n",
    "val_loglosses = []\n",
    "train_val_cost_differences=[]\n",
    "numbers_of_features = []\n",
    "\n",
    "for n in range (1,len(X_train.columns)):\n",
    "    selected_features = getNMostCorrelatedFeatures(n,correlations)\n",
    "    logistic_model = LogisticRegression()\n",
    "    \n",
    "    #Training\n",
    "    logistic_model = logistic_model.fit(X_train[selected_features] , y_train)\n",
    "    train_predictions = logistic_model.predict(X_train[selected_features])\n",
    "    train_loss = log_loss(y_train.values, train_predictions)\n",
    "    \n",
    "    #Predictions on the validation set\n",
    "    val_predictions = logistic_model.predict(X_val[selected_features])\n",
    "    val_outputs = y_val.values\n",
    "    val_loss = log_loss(val_outputs, val_predictions)\n",
    "    \n",
    "    #Storing results on different lists (results used for plot later)\n",
    "    training_loglosses.append(train_loss)\n",
    "    val_loglosses.append(val_loss)\n",
    "    train_val_cost_differences.append(abs(train_loss - val_loss))\n",
    "    numbers_of_features.append(n)\n",
    "\n"
   ]
  },
  {
   "cell_type": "markdown",
   "metadata": {},
   "source": [
    "### Plotting costs differences VS number of features\n",
    "Let's plot the **difference between training cost and test cost** with respect to the number of features selected."
   ]
  },
  {
   "cell_type": "code",
   "execution_count": 15,
   "metadata": {},
   "outputs": [
    {
     "data": {
      "image/png": "[encoded data removed]",
      "text/plain": [
       "<Figure size 432x288 with 1 Axes>"
      ]
     },
     "metadata": {
      "needs_background": "light"
     },
     "output_type": "display_data"
    }
   ],
   "source": [
    "plt.plot(numbers_of_features,train_val_cost_differences,color=\"red\",linestyle='-', label=\"Difference of loss between sets\")\n",
    "plt.title(\"Cost differences between train/val sets\")\n",
    "plt.xlabel(\"Number of features selected\"), plt.ylabel(\"Cost difference between train and val sets\"), \n",
    "plt.show()"
   ]
  },
  {
   "cell_type": "code",
   "execution_count": 16,
   "metadata": {},
   "outputs": [
    {
     "name": "stdout",
     "output_type": "stream",
     "text": [
      "Correlation: 0.8510006268682806  and p-value: 2.410172810260306e-85\n"
     ]
    }
   ],
   "source": [
    "from scipy import stats\n",
    "corr,p_value = stats.pearsonr(numbers_of_features, train_val_cost_differences)\n",
    "print('Correlation:',corr, ' and p-value:',p_value)"
   ]
  },
  {
   "cell_type": "markdown",
   "metadata": {},
   "source": [
    "#### Interpretations\n",
    "The curve is telling us that the more we select correlated features with our target, the more difference we will have between the cost on the training set and the cost on the validation set. The pearson correlation is telling us that there is a **high positive value of linear correlation between both variables.** In other words, if we increase the number of features variable, the cost difference will increase too. \n",
    "\n",
    "Thus, the variance of performance between the training and the validation set will increase if we increase the number of feature selected. \n",
    "The more variance of performance we have, the more overfitted is our model and that's not what we want."
   ]
  },
  {
   "cell_type": "markdown",
   "metadata": {},
   "source": [
    "### Plotting training/validation costs VS number of features"
   ]
  },
  {
   "cell_type": "code",
   "execution_count": 17,
   "metadata": {},
   "outputs": [
    {
     "data": {
      "image/png": "[encoded data removed]",
      "text/plain": [
       "<Figure size 432x288 with 1 Axes>"
      ]
     },
     "metadata": {
      "needs_background": "light"
     },
     "output_type": "display_data"
    }
   ],
   "source": [
    "plt.plot(numbers_of_features,training_loglosses, color=\"green\", label=\"Training set loss\")\n",
    "plt.plot(numbers_of_features,val_loglosses, color=\"blue\",  label=\"Validation set loss\")\n",
    "\n",
    "l = sorted(val_loglosses[:70])\n",
    "#print(l)\n",
    "plt.scatter(42,val_loglosses[42],color=\"red\")\n",
    "\n",
    "# Create plot\n",
    "plt.title(\"Training set and validation set losses\")\n",
    "plt.xlabel(\"Number of features selected\"), plt.ylabel(\"Loss value\"),plt.legend(loc=\"best\")\n",
    "plt.tight_layout()\n",
    "plt.show()"
   ]
  },
  {
   "cell_type": "markdown",
   "metadata": {},
   "source": [
    "When analyzing both curves we can see that **when the number of features selected exceed 50 the training cost reaches 0 and the validation cost increases**. When the training cost reaches a plateau at 0 and the validation cost increases, the variance regarding performance increases.\n",
    "\n",
    "We should select a number n of features lower than 50. The value of n should :\n",
    "* minimize the validation cost function\n",
    "* and minimize the cost difference between training and validation.\n",
    "\n",
    "Thus we will have a smaller variance between both sets with a reasonable cost compared to the overfitted model we had before.\n",
    "The red point on the plot seems to be a reasonable choice because it represents the lowers validation loss and the cost difference seems low."
   ]
  },
  {
   "cell_type": "code",
   "execution_count": 18,
   "metadata": {},
   "outputs": [
    {
     "name": "stdout",
     "output_type": "stream",
     "text": [
      "The best value n (number of features selected) which minimize the validation cost function and the cost difference between training and validation is 42 .\n",
      "We will select the 42 most correlated features with our target.\n"
     ]
    }
   ],
   "source": [
    "def getBestNbOfFeaturesIndex(number_of_features_values, validation_losses, cost_differences):\n",
    "    weighted_averages = []\n",
    "    for i in range (len(validation_losses)):\n",
    "        train_val_difference = cost_differences[i]\n",
    "        val_loss = validation_losses[i]\n",
    "        weighted_average = ( (4*val_loss) + train_val_difference) / 2\n",
    "        weighted_averages.append(weighted_average)\n",
    "    \n",
    "    min_average_index = weighted_averages.index(min(weighted_averages))\n",
    "    return number_of_features_values[min_average_index]\n",
    "    \n",
    "number_of_features_toselect = getBestNbOfFeaturesIndex(numbers_of_features,val_loglosses,train_val_cost_differences)\n",
    "print(\"The best value n (number of features selected) which minimize the validation cost function and the cost difference between training and validation is\",number_of_features_toselect,'.')\n",
    "print(\"We will select the\",number_of_features_toselect,\"most correlated features with our target.\" )"
   ]
  },
  {
   "cell_type": "markdown",
   "metadata": {},
   "source": [
    "#### Training of the new model \n",
    "Let's train our new model and make predictions on the validation set."
   ]
  },
  {
   "cell_type": "code",
   "execution_count": 21,
   "metadata": {},
   "outputs": [],
   "source": [
    "selected_features = getNMostCorrelatedFeatures(number_of_features_toselect,correlations)\n",
    "new_model = LogisticRegression()\n",
    "    \n",
    "#Training\n",
    "new_model = new_model.fit(X_train[selected_features] , y_train)\n",
    "newmodel_val_predictions = new_model.predict(X_val[selected_features])\n"
   ]
  },
  {
   "cell_type": "markdown",
   "metadata": {},
   "source": [
    "#### Old model F1 score VS New model F1 score"
   ]
  },
  {
   "cell_type": "code",
   "execution_count": 22,
   "metadata": {},
   "outputs": [
    {
     "name": "stdout",
     "output_type": "stream",
     "text": [
      "Old model Validation F1-score: 0.41379310344827586\n",
      "New model Validation F1-score: 0.8108108108108107\n"
     ]
    }
   ],
   "source": [
    "print(\"Old model Validation F1-score:\", f1_score(y_val.values, old_model_predictions))\n",
    "print(\"New model Validation F1-score:\", f1_score(y_val.values, newmodel_val_predictions))"
   ]
  },
  {
   "cell_type": "markdown",
   "metadata": {},
   "source": [
    "**By doing feature selection, we have a new model which is not overfitted and performs way better on the validation set than our old overfitted model.**\n",
    "\n",
    "**Our new model generalizes better to new examples which is a good point if we want our model to make good predictions on the test set.**"
   ]
  },
  {
   "cell_type": "code",
   "execution_count": null,
   "metadata": {},
   "outputs": [],
   "source": []
  }
 ],
 "metadata": {
  "kernelspec": {
   "display_name": "Python 3",
   "language": "python",
   "name": "python3"
  },
  "language_info": {
   "codemirror_mode": {
    "name": "ipython",
    "version": 3
   },
   "file_extension": ".py",
   "mimetype": "text/x-python",
   "name": "python",
   "nbconvert_exporter": "python",
   "pygments_lexer": "ipython3",
   "version": "3.7.4"
  }
 },
 "nbformat": 4,
 "nbformat_minor": 4
}
